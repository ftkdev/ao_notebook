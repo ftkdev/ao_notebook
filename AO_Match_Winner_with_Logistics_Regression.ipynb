{
 "cells": [
  {
   "cell_type": "markdown",
   "id": "93590bc9",
   "metadata": {},
   "source": [
    "<font size = '4'><b>Australian Open Machine Learning Model</b></font>"
   ]
  },
  {
   "cell_type": "code",
   "execution_count": 1,
   "id": "4a1e095c",
   "metadata": {},
   "outputs": [],
   "source": [
    "import pandas as pd\n",
    "import numpy as np\n",
    "import matplotlib.pyplot as plt"
   ]
  },
  {
   "cell_type": "markdown",
   "id": "063ed1b9",
   "metadata": {},
   "source": [
    "<font size = '4'><b>Import and Check Database</b></font>"
   ]
  },
  {
   "cell_type": "code",
   "execution_count": 2,
   "id": "1ac64ef9",
   "metadata": {
    "scrolled": true
   },
   "outputs": [],
   "source": [
    "#Load parsed Australian Open Data\n",
    "url = \"https://raw.githubusercontent.com/ftkdev/ao_scraper_project/master/australian_open/extracts/aodata_final.csv\"\n",
    "df = pd.read_csv(url)"
   ]
  },
  {
   "cell_type": "code",
   "execution_count": 3,
   "id": "4e03587e",
   "metadata": {},
   "outputs": [
    {
     "data": {
      "text/plain": [
       "(1872, 47)"
      ]
     },
     "execution_count": 3,
     "metadata": {},
     "output_type": "execute_result"
    }
   ],
   "source": [
    "df.shape"
   ]
  },
  {
   "cell_type": "code",
   "execution_count": 4,
   "id": "e011c09d",
   "metadata": {
    "scrolled": true
   },
   "outputs": [
    {
     "data": {
      "text/html": [
       "<div>\n",
       "<style scoped>\n",
       "    .dataframe tbody tr th:only-of-type {\n",
       "        vertical-align: middle;\n",
       "    }\n",
       "\n",
       "    .dataframe tbody tr th {\n",
       "        vertical-align: top;\n",
       "    }\n",
       "\n",
       "    .dataframe thead th {\n",
       "        text-align: right;\n",
       "    }\n",
       "</style>\n",
       "<table border=\"1\" class=\"dataframe\">\n",
       "  <thead>\n",
       "    <tr style=\"text-align: right;\">\n",
       "      <th></th>\n",
       "      <th>calendar_year</th>\n",
       "      <th>p1_1stserve_pwon</th>\n",
       "      <th>p1_1stserve_success</th>\n",
       "      <th>p1_2ndserve_pwon</th>\n",
       "      <th>p1_aces</th>\n",
       "      <th>p1_breakpoints_won</th>\n",
       "      <th>p1_doublefaults</th>\n",
       "      <th>p1_max_games_row</th>\n",
       "      <th>p1_max_points_row</th>\n",
       "      <th>p1_servgames_won</th>\n",
       "      <th>...</th>\n",
       "      <th>player2_3rd_set</th>\n",
       "      <th>player2_4th_set</th>\n",
       "      <th>player2_5th_set</th>\n",
       "      <th>player2_country</th>\n",
       "      <th>player2_name</th>\n",
       "      <th>player2_seed</th>\n",
       "      <th>player2_surname</th>\n",
       "      <th>player2_total_sets</th>\n",
       "      <th>tournament</th>\n",
       "      <th>tournament_phase</th>\n",
       "    </tr>\n",
       "  </thead>\n",
       "  <tbody>\n",
       "    <tr>\n",
       "      <th>0</th>\n",
       "      <td>[2020]</td>\n",
       "      <td>75.0</td>\n",
       "      <td>108.0</td>\n",
       "      <td>28.0</td>\n",
       "      <td>13.0</td>\n",
       "      <td>5.0</td>\n",
       "      <td>5.0</td>\n",
       "      <td>6.0</td>\n",
       "      <td>7.0</td>\n",
       "      <td>18.0</td>\n",
       "      <td>...</td>\n",
       "      <td>2</td>\n",
       "      <td>6</td>\n",
       "      <td>6</td>\n",
       "      <td>SRB</td>\n",
       "      <td>Novak</td>\n",
       "      <td>2.0</td>\n",
       "      <td>Djokovic</td>\n",
       "      <td>3.0</td>\n",
       "      <td>2565</td>\n",
       "      <td>Final</td>\n",
       "    </tr>\n",
       "    <tr>\n",
       "      <th>1</th>\n",
       "      <td>[2020]</td>\n",
       "      <td>66.0</td>\n",
       "      <td>79.0</td>\n",
       "      <td>27.0</td>\n",
       "      <td>12.0</td>\n",
       "      <td>2.0</td>\n",
       "      <td>4.0</td>\n",
       "      <td>3.0</td>\n",
       "      <td>13.0</td>\n",
       "      <td>19.0</td>\n",
       "      <td>...</td>\n",
       "      <td>6</td>\n",
       "      <td>6</td>\n",
       "      <td>0</td>\n",
       "      <td>AUS</td>\n",
       "      <td>Nick</td>\n",
       "      <td>23.0</td>\n",
       "      <td>Kyrgios</td>\n",
       "      <td>1.0</td>\n",
       "      <td>2565</td>\n",
       "      <td>Round of 16</td>\n",
       "    </tr>\n",
       "    <tr>\n",
       "      <th>2</th>\n",
       "      <td>[2020]</td>\n",
       "      <td>40.0</td>\n",
       "      <td>52.0</td>\n",
       "      <td>15.0</td>\n",
       "      <td>5.0</td>\n",
       "      <td>NaN</td>\n",
       "      <td>5.0</td>\n",
       "      <td>1.0</td>\n",
       "      <td>5.0</td>\n",
       "      <td>12.0</td>\n",
       "      <td>...</td>\n",
       "      <td>6</td>\n",
       "      <td>0</td>\n",
       "      <td>0</td>\n",
       "      <td>DEU</td>\n",
       "      <td>Alexander</td>\n",
       "      <td>7.0</td>\n",
       "      <td>Zverev</td>\n",
       "      <td>3.0</td>\n",
       "      <td>2565</td>\n",
       "      <td>Round of 16</td>\n",
       "    </tr>\n",
       "    <tr>\n",
       "      <th>3</th>\n",
       "      <td>[2020]</td>\n",
       "      <td>77.0</td>\n",
       "      <td>97.0</td>\n",
       "      <td>24.0</td>\n",
       "      <td>27.0</td>\n",
       "      <td>4.0</td>\n",
       "      <td>5.0</td>\n",
       "      <td>5.0</td>\n",
       "      <td>5.0</td>\n",
       "      <td>20.0</td>\n",
       "      <td>...</td>\n",
       "      <td>2</td>\n",
       "      <td>7</td>\n",
       "      <td>6</td>\n",
       "      <td>CHE</td>\n",
       "      <td>Roger</td>\n",
       "      <td>3.0</td>\n",
       "      <td>Federer</td>\n",
       "      <td>3.0</td>\n",
       "      <td>2565</td>\n",
       "      <td>Quarter-Final</td>\n",
       "    </tr>\n",
       "    <tr>\n",
       "      <th>4</th>\n",
       "      <td>[2020]</td>\n",
       "      <td>NaN</td>\n",
       "      <td>NaN</td>\n",
       "      <td>NaN</td>\n",
       "      <td>NaN</td>\n",
       "      <td>NaN</td>\n",
       "      <td>NaN</td>\n",
       "      <td>NaN</td>\n",
       "      <td>NaN</td>\n",
       "      <td>NaN</td>\n",
       "      <td>...</td>\n",
       "      <td>0</td>\n",
       "      <td>0</td>\n",
       "      <td>0</td>\n",
       "      <td>ESP</td>\n",
       "      <td>Adrian</td>\n",
       "      <td>NaN</td>\n",
       "      <td>Menendez-Maceiras</td>\n",
       "      <td>0.0</td>\n",
       "      <td>2565</td>\n",
       "      <td>Qualification</td>\n",
       "    </tr>\n",
       "  </tbody>\n",
       "</table>\n",
       "<p>5 rows × 47 columns</p>\n",
       "</div>"
      ],
      "text/plain": [
       "  calendar_year  p1_1stserve_pwon  p1_1stserve_success  p1_2ndserve_pwon  \\\n",
       "0        [2020]              75.0                108.0              28.0   \n",
       "1        [2020]              66.0                 79.0              27.0   \n",
       "2        [2020]              40.0                 52.0              15.0   \n",
       "3        [2020]              77.0                 97.0              24.0   \n",
       "4        [2020]               NaN                  NaN               NaN   \n",
       "\n",
       "   p1_aces  p1_breakpoints_won  p1_doublefaults  p1_max_games_row  \\\n",
       "0     13.0                 5.0              5.0               6.0   \n",
       "1     12.0                 2.0              4.0               3.0   \n",
       "2      5.0                 NaN              5.0               1.0   \n",
       "3     27.0                 4.0              5.0               5.0   \n",
       "4      NaN                 NaN              NaN               NaN   \n",
       "\n",
       "   p1_max_points_row  p1_servgames_won  ...  player2_3rd_set  player2_4th_set  \\\n",
       "0                7.0              18.0  ...                2                6   \n",
       "1               13.0              19.0  ...                6                6   \n",
       "2                5.0              12.0  ...                6                0   \n",
       "3                5.0              20.0  ...                2                7   \n",
       "4                NaN               NaN  ...                0                0   \n",
       "\n",
       "   player2_5th_set  player2_country  player2_name  player2_seed  \\\n",
       "0                6              SRB         Novak           2.0   \n",
       "1                0              AUS          Nick          23.0   \n",
       "2                0              DEU     Alexander           7.0   \n",
       "3                6              CHE         Roger           3.0   \n",
       "4                0              ESP        Adrian           NaN   \n",
       "\n",
       "     player2_surname  player2_total_sets  tournament  tournament_phase  \n",
       "0           Djokovic                 3.0        2565             Final  \n",
       "1            Kyrgios                 1.0        2565       Round of 16  \n",
       "2             Zverev                 3.0        2565       Round of 16  \n",
       "3            Federer                 3.0        2565     Quarter-Final  \n",
       "4  Menendez-Maceiras                 0.0        2565     Qualification  \n",
       "\n",
       "[5 rows x 47 columns]"
      ]
     },
     "execution_count": 4,
     "metadata": {},
     "output_type": "execute_result"
    }
   ],
   "source": [
    "df.head()"
   ]
  },
  {
   "cell_type": "code",
   "execution_count": 5,
   "id": "6865abe8",
   "metadata": {
    "scrolled": true
   },
   "outputs": [
    {
     "data": {
      "text/plain": [
       "Index(['calendar_year', 'p1_1stserve_pwon', 'p1_1stserve_success',\n",
       "       'p1_2ndserve_pwon', 'p1_aces', 'p1_breakpoints_won', 'p1_doublefaults',\n",
       "       'p1_max_games_row', 'p1_max_points_row', 'p1_servgames_won',\n",
       "       'p1_tiebreaks_won', 'p1_total_games_won', 'p1_total_points_won',\n",
       "       'p2_1stserve_pwon', 'p2_1stserve_success', 'p2_2ndserve_pwon',\n",
       "       'p2_aces', 'p2_breakpoints_won', 'p2_doublefaults', 'p2_max_games_row',\n",
       "       'p2_max_points_row', 'p2_servgames_won', 'p2_tiebreaks_won',\n",
       "       'p2_total_games_won', 'p2_total_points_won', 'player1_1st_set',\n",
       "       'player1_2nd_set', 'player1_3rd_set', 'player1_4th_set',\n",
       "       'player1_5th_set', 'player1_country', 'player1_name', 'player1_seed',\n",
       "       'player1_surname', 'player1_total_sets', 'player2_1st_set',\n",
       "       'player2_2nd_set', 'player2_3rd_set', 'player2_4th_set',\n",
       "       'player2_5th_set', 'player2_country', 'player2_name', 'player2_seed',\n",
       "       'player2_surname', 'player2_total_sets', 'tournament',\n",
       "       'tournament_phase'],\n",
       "      dtype='object')"
      ]
     },
     "execution_count": 5,
     "metadata": {},
     "output_type": "execute_result"
    }
   ],
   "source": [
    "df.columns"
   ]
  },
  {
   "cell_type": "code",
   "execution_count": 6,
   "id": "b3f4bd5f",
   "metadata": {},
   "outputs": [],
   "source": [
    "df = df.reindex(sorted(df.columns), axis=1)"
   ]
  },
  {
   "cell_type": "code",
   "execution_count": 7,
   "id": "16a934cc",
   "metadata": {},
   "outputs": [
    {
     "name": "stdout",
     "output_type": "stream",
     "text": [
      "<class 'pandas.core.frame.DataFrame'>\n",
      "RangeIndex: 1872 entries, 0 to 1871\n",
      "Data columns (total 47 columns):\n",
      " #   Column               Non-Null Count  Dtype  \n",
      "---  ------               --------------  -----  \n",
      " 0   calendar_year        1872 non-null   object \n",
      " 1   p1_1stserve_pwon     1065 non-null   float64\n",
      " 2   p1_1stserve_success  1065 non-null   float64\n",
      " 3   p1_2ndserve_pwon     1021 non-null   float64\n",
      " 4   p1_aces              1022 non-null   float64\n",
      " 5   p1_breakpoints_won   814 non-null    float64\n",
      " 6   p1_doublefaults      940 non-null    float64\n",
      " 7   p1_max_games_row     1062 non-null   float64\n",
      " 8   p1_max_points_row    1065 non-null   float64\n",
      " 9   p1_servgames_won     1062 non-null   float64\n",
      " 10  p1_tiebreaks_won     0 non-null      float64\n",
      " 11  p1_total_games_won   1062 non-null   float64\n",
      " 12  p1_total_points_won  1065 non-null   float64\n",
      " 13  p2_1stserve_pwon     1065 non-null   float64\n",
      " 14  p2_1stserve_success  1065 non-null   float64\n",
      " 15  p2_2ndserve_pwon     1021 non-null   float64\n",
      " 16  p2_aces              1022 non-null   float64\n",
      " 17  p2_breakpoints_won   814 non-null    float64\n",
      " 18  p2_doublefaults      940 non-null    float64\n",
      " 19  p2_max_games_row     1062 non-null   float64\n",
      " 20  p2_max_points_row    1065 non-null   float64\n",
      " 21  p2_servgames_won     1062 non-null   float64\n",
      " 22  p2_tiebreaks_won     0 non-null      float64\n",
      " 23  p2_total_games_won   1062 non-null   float64\n",
      " 24  p2_total_points_won  1065 non-null   float64\n",
      " 25  player1_1st_set      1872 non-null   int64  \n",
      " 26  player1_2nd_set      1872 non-null   int64  \n",
      " 27  player1_3rd_set      1872 non-null   int64  \n",
      " 28  player1_4th_set      1872 non-null   int64  \n",
      " 29  player1_5th_set      1872 non-null   int64  \n",
      " 30  player1_country      1872 non-null   object \n",
      " 31  player1_name         1666 non-null   object \n",
      " 32  player1_seed         658 non-null    float64\n",
      " 33  player1_surname      1666 non-null   object \n",
      " 34  player1_total_sets   1867 non-null   float64\n",
      " 35  player2_1st_set      1872 non-null   int64  \n",
      " 36  player2_2nd_set      1872 non-null   int64  \n",
      " 37  player2_3rd_set      1872 non-null   int64  \n",
      " 38  player2_4th_set      1872 non-null   int64  \n",
      " 39  player2_5th_set      1872 non-null   int64  \n",
      " 40  player2_country      1872 non-null   object \n",
      " 41  player2_name         1700 non-null   object \n",
      " 42  player2_seed         641 non-null    float64\n",
      " 43  player2_surname      1700 non-null   object \n",
      " 44  player2_total_sets   1867 non-null   float64\n",
      " 45  tournament           1872 non-null   int64  \n",
      " 46  tournament_phase     1872 non-null   object \n",
      "dtypes: float64(28), int64(11), object(8)\n",
      "memory usage: 687.5+ KB\n"
     ]
    }
   ],
   "source": [
    "df.info()"
   ]
  },
  {
   "cell_type": "code",
   "execution_count": 8,
   "id": "483c88b0",
   "metadata": {
    "scrolled": true
   },
   "outputs": [
    {
     "data": {
      "text/plain": [
       "0       2020\n",
       "1       2020\n",
       "2       2020\n",
       "3       2020\n",
       "4       2020\n",
       "        ... \n",
       "1867    2022\n",
       "1868    2022\n",
       "1869    2022\n",
       "1870    2022\n",
       "1871    2022\n",
       "Name: calendar_year, Length: 1872, dtype: int64"
      ]
     },
     "execution_count": 8,
     "metadata": {},
     "output_type": "execute_result"
    }
   ],
   "source": [
    "# Fix calendar_year column\n",
    "df['calendar_year'] = df['calendar_year'].str.replace('[', '', regex=True).str.replace(']', '', regex=True).astype(int)\n",
    "df['calendar_year']"
   ]
  },
  {
   "cell_type": "code",
   "execution_count": 9,
   "id": "3ca1400f",
   "metadata": {
    "scrolled": true
   },
   "outputs": [
    {
     "data": {
      "text/plain": [
       "Index(['calendar_year', 'p1_1stserve_pwon', 'p1_1stserve_success',\n",
       "       'p1_2ndserve_pwon', 'p1_aces', 'p1_breakpoints_won', 'p1_doublefaults',\n",
       "       'p1_max_games_row', 'p1_max_points_row', 'p1_servgames_won',\n",
       "       'p1_tiebreaks_won', 'p1_total_games_won', 'p1_total_points_won',\n",
       "       'p2_1stserve_pwon', 'p2_1stserve_success', 'p2_2ndserve_pwon',\n",
       "       'p2_aces', 'p2_breakpoints_won', 'p2_doublefaults', 'p2_max_games_row',\n",
       "       'p2_max_points_row', 'p2_servgames_won', 'p2_tiebreaks_won',\n",
       "       'p2_total_games_won', 'p2_total_points_won', 'player1_1st_set',\n",
       "       'player1_2nd_set', 'player1_3rd_set', 'player1_4th_set',\n",
       "       'player1_5th_set', 'player1_country', 'player1_name', 'player1_seed',\n",
       "       'player1_surname', 'player1_total_sets', 'player2_1st_set',\n",
       "       'player2_2nd_set', 'player2_3rd_set', 'player2_4th_set',\n",
       "       'player2_5th_set', 'player2_country', 'player2_name', 'player2_seed',\n",
       "       'player2_surname', 'player2_total_sets', 'tournament',\n",
       "       'tournament_phase'],\n",
       "      dtype='object')"
      ]
     },
     "execution_count": 9,
     "metadata": {},
     "output_type": "execute_result"
    }
   ],
   "source": [
    "df.columns"
   ]
  },
  {
   "cell_type": "markdown",
   "id": "12f5941f",
   "metadata": {},
   "source": [
    "<font size = '4'><b>Prepare the Database</b></font>"
   ]
  },
  {
   "cell_type": "code",
   "execution_count": 10,
   "id": "0134dee7",
   "metadata": {},
   "outputs": [
    {
     "data": {
      "text/plain": [
       "p2_winner    919\n",
       "p1_winner    901\n",
       "Name: winner, dtype: int64"
      ]
     },
     "execution_count": 10,
     "metadata": {},
     "output_type": "execute_result"
    }
   ],
   "source": [
    "#Create dependent variable y (winner)\n",
    "conditions = [\n",
    "    (df['player1_total_sets'] > df['player2_total_sets']),\n",
    "    (df['player1_total_sets'] < df['player2_total_sets']),\n",
    "    (df['player1_total_sets'] == df['player2_total_sets'])\n",
    "]\n",
    "values = ['p1_winner', 'p2_winner', 'not_applicable']\n",
    "\n",
    "df['winner'] = np.select(conditions, values)\n",
    "df = df.loc[(~df['winner'].isin(['not_applicable', '0'])), :]\n",
    "df['winner'].value_counts()"
   ]
  },
  {
   "cell_type": "code",
   "execution_count": 11,
   "id": "85faadfa",
   "metadata": {},
   "outputs": [],
   "source": [
    "# Remove null values\n",
    "df = df.drop(['calendar_year', 'p1_max_games_row', 'p2_max_games_row', 'p1_servgames_won', \n",
    "         'p2_servgames_won', 'player1_1st_set',\n",
    "       'player1_2nd_set', 'player1_3rd_set', 'player1_4th_set',\n",
    "       'player1_5th_set', 'player1_country', 'player1_name', 'player1_seed',\n",
    "       'player1_surname', 'player1_total_sets', 'player2_1st_set',\n",
    "       'player2_2nd_set', 'player2_3rd_set', 'player2_4th_set',\n",
    "       'player2_5th_set', 'player2_country', 'player2_name', 'player2_seed',\n",
    "       'player2_surname', 'player2_total_sets', 'tournament',\n",
    "       'tournament_phase', 'p1_tiebreaks_won', 'p2_tiebreaks_won'], axis=1)"
   ]
  },
  {
   "cell_type": "code",
   "execution_count": 12,
   "id": "60c15dfb",
   "metadata": {
    "scrolled": false
   },
   "outputs": [
    {
     "name": "stdout",
     "output_type": "stream",
     "text": [
      "<class 'pandas.core.frame.DataFrame'>\n",
      "Int64Index: 1820 entries, 0 to 1871\n",
      "Data columns (total 19 columns):\n",
      " #   Column               Non-Null Count  Dtype  \n",
      "---  ------               --------------  -----  \n",
      " 0   p1_1stserve_pwon     1034 non-null   float64\n",
      " 1   p1_1stserve_success  1034 non-null   float64\n",
      " 2   p1_2ndserve_pwon     990 non-null    float64\n",
      " 3   p1_aces              994 non-null    float64\n",
      " 4   p1_breakpoints_won   800 non-null    float64\n",
      " 5   p1_doublefaults      916 non-null    float64\n",
      " 6   p1_max_points_row    1034 non-null   float64\n",
      " 7   p1_total_games_won   1034 non-null   float64\n",
      " 8   p1_total_points_won  1034 non-null   float64\n",
      " 9   p2_1stserve_pwon     1034 non-null   float64\n",
      " 10  p2_1stserve_success  1034 non-null   float64\n",
      " 11  p2_2ndserve_pwon     990 non-null    float64\n",
      " 12  p2_aces              994 non-null    float64\n",
      " 13  p2_breakpoints_won   800 non-null    float64\n",
      " 14  p2_doublefaults      916 non-null    float64\n",
      " 15  p2_max_points_row    1034 non-null   float64\n",
      " 16  p2_total_games_won   1034 non-null   float64\n",
      " 17  p2_total_points_won  1034 non-null   float64\n",
      " 18  winner               1820 non-null   object \n",
      "dtypes: float64(18), object(1)\n",
      "memory usage: 284.4+ KB\n"
     ]
    }
   ],
   "source": [
    "df.info()"
   ]
  },
  {
   "cell_type": "code",
   "execution_count": 13,
   "id": "374af80b",
   "metadata": {},
   "outputs": [
    {
     "name": "stdout",
     "output_type": "stream",
     "text": [
      "<class 'pandas.core.frame.DataFrame'>\n",
      "Int64Index: 679 entries, 0 to 1871\n",
      "Data columns (total 19 columns):\n",
      " #   Column               Non-Null Count  Dtype  \n",
      "---  ------               --------------  -----  \n",
      " 0   p1_1stserve_pwon     679 non-null    float64\n",
      " 1   p1_1stserve_success  679 non-null    float64\n",
      " 2   p1_2ndserve_pwon     679 non-null    float64\n",
      " 3   p1_aces              679 non-null    float64\n",
      " 4   p1_breakpoints_won   679 non-null    float64\n",
      " 5   p1_doublefaults      679 non-null    float64\n",
      " 6   p1_max_points_row    679 non-null    float64\n",
      " 7   p1_total_games_won   679 non-null    float64\n",
      " 8   p1_total_points_won  679 non-null    float64\n",
      " 9   p2_1stserve_pwon     679 non-null    float64\n",
      " 10  p2_1stserve_success  679 non-null    float64\n",
      " 11  p2_2ndserve_pwon     679 non-null    float64\n",
      " 12  p2_aces              679 non-null    float64\n",
      " 13  p2_breakpoints_won   679 non-null    float64\n",
      " 14  p2_doublefaults      679 non-null    float64\n",
      " 15  p2_max_points_row    679 non-null    float64\n",
      " 16  p2_total_games_won   679 non-null    float64\n",
      " 17  p2_total_points_won  679 non-null    float64\n",
      " 18  winner               679 non-null    object \n",
      "dtypes: float64(18), object(1)\n",
      "memory usage: 106.1+ KB\n"
     ]
    }
   ],
   "source": [
    "df = df.dropna()\n",
    "df.info()"
   ]
  },
  {
   "cell_type": "markdown",
   "id": "0ebdb8e6",
   "metadata": {},
   "source": [
    "<font size = '4'><b>Guess match winner based only on stats using Logistics Regression</b></font>"
   ]
  },
  {
   "cell_type": "code",
   "execution_count": 14,
   "id": "225c30e0",
   "metadata": {},
   "outputs": [
    {
     "data": {
      "text/plain": [
       "Index(['p1_1stserve_pwon', 'p1_1stserve_success', 'p1_2ndserve_pwon',\n",
       "       'p1_aces', 'p1_breakpoints_won', 'p1_doublefaults', 'p1_max_points_row',\n",
       "       'p1_total_games_won', 'p1_total_points_won', 'p2_1stserve_pwon',\n",
       "       'p2_1stserve_success', 'p2_2ndserve_pwon', 'p2_aces',\n",
       "       'p2_breakpoints_won', 'p2_doublefaults', 'p2_max_points_row',\n",
       "       'p2_total_games_won', 'p2_total_points_won', 'winner'],\n",
       "      dtype='object')"
      ]
     },
     "execution_count": 14,
     "metadata": {},
     "output_type": "execute_result"
    }
   ],
   "source": [
    "df.columns"
   ]
  },
  {
   "cell_type": "code",
   "execution_count": 15,
   "id": "1daf4799",
   "metadata": {},
   "outputs": [],
   "source": [
    "# Define y independent variable, and X predictors\n",
    "y = df['winner']\n",
    "ao_predictors = [\n",
    "#     'p1_1stserve_pwon', \n",
    "    'p1_1stserve_success', \n",
    "#     'p1_2ndserve_pwon',\n",
    "    'p1_aces', \n",
    "    'p1_breakpoints_won', \n",
    "#     'p1_doublefaults', \n",
    "#     'p1_max_points_row',\n",
    "#     'p1_total_games_won', \n",
    "#     'p1_total_points_won', \n",
    "#     'p2_1stserve_pwon',\n",
    "#     'p2_1stserve_success', \n",
    "#     'p2_2ndserve_pwon', \n",
    "#     'p2_aces',\n",
    "#     'p2_breakpoints_won', \n",
    "#     'p2_doublefaults', \n",
    "#     'p2_max_points_row',\n",
    "#     'p2_total_games_won', \n",
    "#     'p2_total_points_won'\n",
    "]\n",
    "X = df[ao_predictors]"
   ]
  },
  {
   "cell_type": "code",
   "execution_count": 16,
   "id": "8f451af6",
   "metadata": {},
   "outputs": [],
   "source": [
    "# Create train and test samples\n",
    "from sklearn.model_selection import train_test_split\n",
    "X_train,X_test,y_train,y_test=train_test_split(X,y,test_size=0.25,random_state=0)"
   ]
  },
  {
   "cell_type": "code",
   "execution_count": 17,
   "id": "d351e93f",
   "metadata": {},
   "outputs": [],
   "source": [
    "# Create Logistics Regression model\n",
    "from sklearn.linear_model import LogisticRegression\n",
    "\n",
    "logreg = LogisticRegression(max_iter=1000)\n",
    "\n",
    "# Fit the model\n",
    "logreg.fit(X_train,y_train)\n",
    "\n",
    "y_pred = logreg.predict(X_test)"
   ]
  },
  {
   "cell_type": "code",
   "execution_count": 18,
   "id": "ca1a3161",
   "metadata": {},
   "outputs": [
    {
     "data": {
      "text/plain": [
       "array([[53, 20],\n",
       "       [14, 83]])"
      ]
     },
     "execution_count": 18,
     "metadata": {},
     "output_type": "execute_result"
    }
   ],
   "source": [
    "# Confusion Matrix\n",
    "from sklearn import metrics\n",
    "cnf_matrix = metrics.confusion_matrix(y_test, y_pred)\n",
    "cnf_matrix"
   ]
  },
  {
   "cell_type": "code",
   "execution_count": 19,
   "id": "89edb587",
   "metadata": {},
   "outputs": [
    {
     "name": "stdout",
     "output_type": "stream",
     "text": [
      "Accuracy: 0.8\n",
      "Precision: 0.7910447761194029\n",
      "Recall: 0.726027397260274\n"
     ]
    }
   ],
   "source": [
    "# Important Metrics\n",
    "print(\"Accuracy:\",metrics.accuracy_score(y_test, y_pred))\n",
    "print(\"Precision:\",metrics.precision_score(y_test, y_pred, pos_label='p1_winner'))\n",
    "print(\"Recall:\",metrics.recall_score(y_test, y_pred, pos_label='p1_winner'))"
   ]
  },
  {
   "cell_type": "code",
   "execution_count": 20,
   "id": "cb99a93e",
   "metadata": {},
   "outputs": [
    {
     "data": {
      "image/png": "[encoded data removed]",
      "text/plain": [
       "<Figure size 432x288 with 1 Axes>"
      ]
     },
     "metadata": {
      "needs_background": "light"
     },
     "output_type": "display_data"
    }
   ],
   "source": [
    "# ROC Curve\n",
    "y_pred_proba = logreg.predict_proba(X_test)[::,1]\n",
    "fpr, tpr, _ = metrics.roc_curve(y_test,  y_pred_proba, pos_label='p1_winner')\n",
    "auc = metrics.roc_auc_score(y_test, y_pred_proba)\n",
    "plt.plot(tpr,fpr,label=\"data 1, auc=\"+str(auc))\n",
    "# plt.legend(loc=4)\n",
    "plt.show()"
   ]
  },
  {
   "cell_type": "markdown",
   "id": "cf4d5ebe",
   "metadata": {},
   "source": [
    "<font size = '4'><b>Apply AO trained model to US Open database to evaluate performance</b></font>"
   ]
  },
  {
   "cell_type": "code",
   "execution_count": 21,
   "id": "4d412e26",
   "metadata": {},
   "outputs": [
    {
     "data": {
      "text/plain": [
       "(1531, 47)"
      ]
     },
     "execution_count": 21,
     "metadata": {},
     "output_type": "execute_result"
    }
   ],
   "source": [
    "# The Objective is to check if the model trained with Austalian Open data can be used for the US Open\n",
    "#Load parsed US Open Data\n",
    "url = \"https://raw.githubusercontent.com/ftkdev/ao_scraper_project/master/australian_open/extracts/usdata_final.csv\"\n",
    "df_us = pd.read_csv(url)\n",
    "df_us = df_us.reindex(sorted(df_us.columns), axis=1)\n",
    "df_us.shape"
   ]
  },
  {
   "cell_type": "code",
   "execution_count": 22,
   "id": "9c9ef5d4",
   "metadata": {
    "scrolled": true
   },
   "outputs": [],
   "source": [
    "#Prepare database with same previous steps used above for AO db\n",
    "# Fix calendar_year column\n",
    "df_us['calendar_year'] = df_us['calendar_year'].str.replace('[', '', regex=True).str.replace(']', '', regex=True).astype(int)\n",
    "\n",
    "#Create dependent variable y (winner)\n",
    "conditions = [\n",
    "    (df_us['player1_total_sets'] > df_us['player2_total_sets']),\n",
    "    (df_us['player1_total_sets'] < df_us['player2_total_sets']),\n",
    "    (df_us['player1_total_sets'] == df_us['player2_total_sets'])\n",
    "]\n",
    "values = ['p1_winner', 'p2_winner', 'not_applicable']\n",
    "\n",
    "df_us['winner'] = np.select(conditions, values)\n",
    "df_us = df_us.loc[(~df_us['winner'].isin(['not_applicable', '0'])), :]\n",
    "\n",
    "# Remove null values\n",
    "df_us = df_us.drop(['calendar_year', 'p1_max_games_row', 'p2_max_games_row', 'p1_servgames_won', \n",
    "         'p2_servgames_won', 'player1_1st_set',\n",
    "       'player1_2nd_set', 'player1_3rd_set', 'player1_4th_set',\n",
    "       'player1_5th_set', 'player1_country', 'player1_name', 'player1_seed',\n",
    "       'player1_surname', 'player1_total_sets', 'player2_1st_set',\n",
    "       'player2_2nd_set', 'player2_3rd_set', 'player2_4th_set',\n",
    "       'player2_5th_set', 'player2_country', 'player2_name', 'player2_seed',\n",
    "       'player2_surname', 'player2_total_sets', 'tournament',\n",
    "       'tournament_phase', 'p1_tiebreaks_won', 'p2_tiebreaks_won'], axis=1)\n",
    "\n",
    "df_us = df_us.dropna()"
   ]
  },
  {
   "cell_type": "code",
   "execution_count": 23,
   "id": "2158e0a9",
   "metadata": {
    "scrolled": true
   },
   "outputs": [],
   "source": [
    "# Separate US Open samples to run in the model\n",
    "y_us = df_us['winner']\n",
    "X_us = df_us[ao_predictors]"
   ]
  },
  {
   "cell_type": "code",
   "execution_count": 24,
   "id": "9b7228e1",
   "metadata": {},
   "outputs": [
    {
     "data": {
      "text/plain": [
       "array([[295,  75],\n",
       "       [ 63, 276]])"
      ]
     },
     "execution_count": 24,
     "metadata": {},
     "output_type": "execute_result"
    }
   ],
   "source": [
    "y_pred_us = logreg.predict(X_us)\n",
    "# Confusion Matrix\n",
    "cnf_matrix = metrics.confusion_matrix(y_us, y_pred_us)\n",
    "cnf_matrix"
   ]
  },
  {
   "cell_type": "code",
   "execution_count": 25,
   "id": "2c480585",
   "metadata": {
    "scrolled": true
   },
   "outputs": [
    {
     "name": "stdout",
     "output_type": "stream",
     "text": [
      "Accuracy: 0.8053596614950634\n",
      "Precision: 0.8240223463687151\n",
      "Recall: 0.7972972972972973\n"
     ]
    }
   ],
   "source": [
    "print(\"Accuracy:\",metrics.accuracy_score(y_us, y_pred_us))\n",
    "print(\"Precision:\",metrics.precision_score(y_us, y_pred_us, pos_label='p1_winner'))\n",
    "print(\"Recall:\",metrics.recall_score(y_us, y_pred_us, pos_label='p1_winner'))"
   ]
  },
  {
   "cell_type": "code",
   "execution_count": 26,
   "id": "925cb2e3",
   "metadata": {},
   "outputs": [
    {
     "data": {
      "image/png": "[encoded data removed]",
      "text/plain": [
       "<Figure size 432x288 with 1 Axes>"
      ]
     },
     "metadata": {
      "needs_background": "light"
     },
     "output_type": "display_data"
    }
   ],
   "source": [
    "# ROC Curve\n",
    "y_pred_proba_us = logreg.predict_proba(X_us)[::,1]\n",
    "fpr_us, tpr_us, _ = metrics.roc_curve(y_us,  y_pred_proba_us, pos_label='p1_winner')\n",
    "auc_us = metrics.roc_auc_score(y_us, y_pred_proba_us)\n",
    "plt.plot(tpr_us,fpr_us,label=\"data 1, auc=\"+str(auc_us))\n",
    "# plt.legend(loc=4)\n",
    "plt.show()"
   ]
  },
  {
   "cell_type": "code",
   "execution_count": null,
   "id": "9da934fe",
   "metadata": {},
   "outputs": [],
   "source": []
  },
  {
   "cell_type": "code",
   "execution_count": null,
   "id": "0c37229f",
   "metadata": {},
   "outputs": [],
   "source": []
  }
 ],
 "metadata": {
  "kernelspec": {
   "display_name": "Python 3",
   "language": "python",
   "name": "python3"
  },
  "language_info": {
   "codemirror_mode": {
    "name": "ipython",
    "version": 3
   },
   "file_extension": ".py",
   "mimetype": "text/x-python",
   "name": "python",
   "nbconvert_exporter": "python",
   "pygments_lexer": "ipython3",
   "version": "3.8.8"
  }
 },
 "nbformat": 4,
 "nbformat_minor": 5
}
